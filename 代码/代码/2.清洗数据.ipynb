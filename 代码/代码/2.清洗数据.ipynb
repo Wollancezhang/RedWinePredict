{
 "cells": [
  {
   "cell_type": "code",
   "execution_count": 81,
   "metadata": {},
   "outputs": [],
   "source": [
    "import csv\n",
    "import json\n",
    "csvfile = open('./data/电商红酒.csv', 'r')\n",
    "reader = csv.reader(csvfile)#读取到的数据是将每行数据当做列表返回的\n",
    "rows = []#用来存储解析后的没条数据\n",
    "for row in reader:\n",
    "    row_str = \",\".join(row)#row为list类型需转为str，该数据变为字典型字符串\n",
    "    row_dict = json.loads(row_str)#\n",
    "    #将每行数据中嵌套字典拆开存储到列表中\n",
    "    newdict = {}\n",
    "    for k in row_dict:\n",
    "        if type(row_dict[k]) == str:#将键值对赋给新字典\n",
    "            newdict[k] = row_dict[k]\n",
    "        elif type(row_dict[k]) == dict:#若存在嵌套字典，将该字典中的key和value作为属性和属性值\n",
    "            newdict.update(row_dict[k])\n",
    "    rows.append(newdict)"
   ]
  },
  {
   "cell_type": "code",
   "execution_count": 82,
   "metadata": {},
   "outputs": [],
   "source": [
    "import pandas as pd\n",
    "df = pd.DataFrame(rows)#将字典型数组转为DataFrame形式\n",
    "#将DataFrame 写入到 csv 文件\n",
    "df.to_csv(\"wine_df_shop.csv\",encoding=\"utf-8_sig\", index = False)"
   ]
  },
  {
   "cell_type": "code",
   "execution_count": 83,
   "metadata": {},
   "outputs": [
    {
     "name": "stdout",
     "output_type": "stream",
     "text": [
      "(33734, 266)\n",
      "['CT数' 'ISBN' 'id' 'keyword' 'name' 'price' 'shop_id' 'shop_name' 'sku_id'\n",
      " 'url' '丛书名' '中图法分类号' '主体材质' '主色调' '主袋' '主要材质成分' '主题词' '书写' '产区' '产品产地'\n",
      " '产品净重(kg)' '产品净重（kg）' '产品包装' '产品包装尺寸' '产品包装尺寸（cm）' '产品包装重量（kg）' '产品品牌'\n",
      " '产品型号' '产品尺寸(mm)' '产品尺寸（cm）' '产品尺寸（mm）' '产品尺寸（长*宽*高）' '产品尺寸（长*宽）CM：'\n",
      " '产品尺寸（长x宽x高mm）' '产品展开尺寸（cm)' '产品展开尺寸（cm）' '产品展示尺寸（cm)' '产品展示尺寸（cm）'\n",
      " '产品执行标准' '产品承重量（kg）' '产品承重（kg）' '产品标准号' '产品类别' '产品重量（kg）' '产地' '人群' '介质'\n",
      " '作者' '使用尺寸（cm）' '保温时间' '保质期' '保质期（年）' '储存方法' '光源个数' '光源类型' '冷冻容积（L）'\n",
      " '冷冻能力(kg/24h)' '冷藏容积（L）' '净含量' '净含量（kg）' '净含量（mL/g）' '净含量（mL）' '净尺寸(mm)'\n",
      " '净重(KG)' '净重量（kg）' '出版时间' '出版社' '分类' '制冷方式' '功效' '功率(W)' '功能' '功能位'\n",
      " '功能特性' '包装' '包装尺寸（cm）' '包装礼盒' '包装规格' '单片净含量（mL）' '印刷时间' '印次' '厚度' '原产国'\n",
      " '原产地' '原料' '原材料产地' '原麦汁浓度' '口味' '口感' '口述' '品牌' '品相' '品类' '商品包装'\n",
      " '商品承重量（kg）' '商品承重（kg）' '固定方式' '国产/进口' '国别' '图案' '图片形式' '地区' '场合' '场景'\n",
      " '型号' '填充物' '壁饰题材' '外壳材质' '外文名' '头数' '套装数量' '妆效' '字幕语言' '字数' '存储方法' '安装方式'\n",
      " '审图号' '容积（L）' '容量' '容量(L)' '容量（ml）' '导演' '尺寸' '尺寸（cm）' '尺寸（mm）'\n",
      " '尺寸（长宽高、杯口、杯底直径、容量）' '层位' '层数' '层架材质' '工艺' '幅数' '年代' '年份' '度数' '开关类型'\n",
      " '开口方式' '开本' '开门方式' '形状' '成色' '手机袋' '拉链暗袋' '指示灯' '接口类型' '控制方式' '摄影' '摆放位置'\n",
      " '摆放方式' '收纳尺寸（cm）' '整理' '斜挎带' '方案' '是否360°出水' '是否为特殊用途化妆品' '是否冷热水' '是否双面'\n",
      " '是否可折叠' '是否含糖' '是否含龙头' '是否带光源' '是否有扶手' '是否有盖' '是否有茶格' '最大写入速度(MB/s)'\n",
      " '最大读取速度(MB/s)' '有无钢圈' '朗读' '材质' '材质（杯体、盖子、密封圈、杯口环、茶网）' '材质（锅体、锅盖、锅底）'\n",
      " '校对' '款式' '正文语言' '毯子尺寸' '水槽样式' '注释' '温区' '演员' '灯口' '灯罩材质' '灯身材质'\n",
      " '照射面积(㎡)' '照明功率(W)' '片长' '版次' '特性' '独特设计' '甜度' '生产许可证' '生产许可证号' '用纸' '用途'\n",
      " '电压' '电压(V)' '电脑插袋' '画芯材质' '省份' '碟数' '笔尖材质' '笔杆材质' '等级' '类别' '类型' '系列'\n",
      " '组合' '组合形式' '组套件数' '组立尺寸（cm）' '绘者' '编纂' '编者' '肩带长度（cm）' '能否放A4文件' '能效等级'\n",
      " '色号颜色' '节日' '花器风格' '花型' '著者' '葡萄品种' '表盘材质' '表面处理' '表面工艺' '袖长' '装裱形式' '规格'\n",
      " '规格（cm）' '规格（直径、内径、每个隔层之间的距离）' '规格（长宽高）' '认证型号' '证书' '证件袋' '译者' '读者对象'\n",
      " '贮存条件' '适合肤质' '适用人群' '适用场景' '适用型号' '适用季节' '适用对象' '适用尺寸' '适用炉灶' '适用空间'\n",
      " '造型' '配料' '配音语言' '酒精度' '重量（g）' '重量（kg）' '钥匙孔' '链子材质' '链子样式' '镜面材质'\n",
      " '长度(m)' '阀芯' '附件' '附件数量' '面料' '音频格式' '页数' '题材' '颜色' '风格' '香味' '香型']\n"
     ]
    }
   ],
   "source": [
    "print(df.shape)\n",
    "print(df.columns.values)"
   ]
  },
  {
   "cell_type": "code",
   "execution_count": 84,
   "metadata": {},
   "outputs": [
    {
     "name": "stdout",
     "output_type": "stream",
     "text": [
      "0                 泸州老窖\n",
      "1                   美绚\n",
      "2           通化/tonghua\n",
      "3        长城/greatwall \n",
      "4        长城/greatwall \n",
      "5    干露/concha y toro \n",
      "6            拉菲/lafite\n",
      "7            山图/shantu\n",
      "8            山图/shantu\n",
      "9            山图/shantu\n",
      "Name: keyword, dtype: object\n"
     ]
    }
   ],
   "source": [
    "# 处理红酒名称（统一规范中文/英文的格式）\n",
    "#去keyword中“红酒”字符\n",
    "df['keyword']=df['keyword'].str.split('红酒').str[0]\n",
    "\n",
    "#整理红酒品牌\n",
    "brand = pd.read_csv(\"./data/红酒品牌.csv\",header=None,encoding=\"utf-8\")\n",
    "brands =[]\n",
    "for k1,k2 in zip(list(brand[0]),list(brand[1])):\n",
    "    if pd.isnull(k2):\n",
    "        brands.append(k1)\n",
    "    else:\n",
    "        brands.append(k1+\"/\"+k2)\n",
    "        \n",
    "# 品牌替换\n",
    "def modify_keywords(w, lists):\n",
    "    for b in lists:\n",
    "        if w.strip() in b:\n",
    "            return b\n",
    "    return w.strip()\n",
    "\n",
    "\n",
    "df['keyword'] = df['keyword'].apply(modify_keywords, lists =brands)\n",
    "df['keyword']=df['keyword'].str.lower()#转化为小写\n",
    "\n",
    "print(df[\"keyword\"].head(10))"
   ]
  },
  {
   "cell_type": "markdown",
   "metadata": {},
   "source": [
    "************************************************\n",
    "2.1.1 [去重]()\n",
    "************************************************"
   ]
  },
  {
   "cell_type": "code",
   "execution_count": 85,
   "metadata": {},
   "outputs": [
    {
     "name": "stdout",
     "output_type": "stream",
     "text": [
      "不存在重复数据\n",
      "(33734, 266)\n"
     ]
    }
   ],
   "source": [
    "#若爬取数据有相同的url，则认为是相同数据，只保留一条\n",
    "\n",
    "#数据是否有相同行，若有返回true，否则False\n",
    "if df.duplicated(subset=[\"url\"], keep=False).any(): \n",
    "    print(\"存在重复数据\")\n",
    "    df = df.drop_duplicates(subset=[\"url\"], keep=\"first\")\n",
    "else:\n",
    "    print(\"不存在重复数据\")\n",
    "print(df.shape)"
   ]
  },
  {
   "cell_type": "markdown",
   "metadata": {},
   "source": [
    "************************************************\n",
    "2.1.2 [去除非红酒数据]()\n",
    "************************************************"
   ]
  },
  {
   "cell_type": "code",
   "execution_count": 86,
   "metadata": {},
   "outputs": [
    {
     "name": "stdout",
     "output_type": "stream",
     "text": [
      "(18734, 266)\n"
     ]
    }
   ],
   "source": [
    "df = df.dropna(subset=[\"甜度\"])\n",
    "print(df.shape)"
   ]
  },
  {
   "cell_type": "markdown",
   "metadata": {},
   "source": [
    "************************************************\n",
    "2.1.3 [处理750ml,价格]()\n",
    "\n",
    "将删除“产品重量”属性，因为包装不同，礼盒或者整箱产品包装中带有赠品，酒杯酒具等物品，质量变化数据不可靠，难以清洗。\n",
    "************************************************"
   ]
  },
  {
   "cell_type": "code",
   "execution_count": 87,
   "metadata": {},
   "outputs": [
    {
     "name": "stdout",
     "output_type": "stream",
     "text": [
      "(12990, 266)\n"
     ]
    },
    {
     "name": "stderr",
     "output_type": "stream",
     "text": [
      "/usr/local/python3/lib/python3.6/site-packages/pandas/core/indexing.py:189: SettingWithCopyWarning: \n",
      "A value is trying to be set on a copy of a slice from a DataFrame\n",
      "\n",
      "See the caveats in the documentation: http://pandas.pydata.org/pandas-docs/stable/indexing.html#indexing-view-versus-copy\n",
      "  self._setitem_with_indexer(indexer, value)\n"
     ]
    }
   ],
   "source": [
    "# 提取瓶数和重新计算价格\n",
    "#红酒商品描述中有含有的数字主要有三种年份、容量和瓶数，容量固定为750，主要识别瓶数\n",
    "\n",
    "# 挑出含750字样的数据\n",
    "df = df[df[\"name\"].str.contains(\"750\")]\n",
    "print(df.shape)\n",
    "\n",
    "#处理价格\n",
    "import jieba.posseg as pseg\n",
    "\n",
    "def get_numbers(words, num_type = \"int\"):\n",
    "    \"\"\"返回string中的数字\n",
    "    Args:\n",
    "        words: 字符串\n",
    "        num_type: 获取字符串中float型数字还是int型数字\n",
    "    \"\"\"\n",
    "    nums = []\n",
    "    for w,p in pseg.cut(words): #jieba词性标注不能将“750ml*6\"中的6识别为数字，换一种方式\n",
    "        if num_type == \"int\":\n",
    "            try: nums.append(int(w))\n",
    "            except:continue\n",
    "        if num_type == \"float\":\n",
    "            try: nums.append(float(w))\n",
    "            except:continue\n",
    "    return nums\n",
    "\n",
    "wine_bottles = {}          #存放红酒瓶数字典\n",
    "with open(\"./dict/wine_bottles.txt\",\"r\",encoding = \"utf-8\") as f:\n",
    "    for line in f.readlines():\n",
    "        k,v = line.strip().split(\" \")\n",
    "        wine_bottles[k]=v\n",
    "\n",
    "df_index = df.index.tolist()  #获取df索引列表\n",
    "df[\"price\"] = df[\"price\"].astype(\"float\") #更改数据类型\n",
    "\n",
    "for i, name in zip(df_index, df[\"name\"]):\n",
    "    bottles = [int(wine_bottles[k])for k in wine_bottles if name.find(k) != -1]    #\n",
    "    if len(bottles) == 1:\n",
    "        df['price'].loc[i] = float('%.2f' % (df['price'].loc[i]/bottles[0]))\n",
    "        continue\n",
    "    elif len(bottles)>1:\n",
    "        df = df.drop(index = i,axis = 0)\n",
    "        continue\n",
    "        \n",
    "    numbers = get_numbers(name,\"int\")        #bottles==0，用jieba分词提取红酒标题中的数字\n",
    "    if 750 not in numbers:        #选取是含有750的样本，但结巴分词可能将750切成其他组合词，识别不出750这个数字，删除\n",
    "        df = df.drop(index = i,axis = 0)\n",
    "        continue\n",
    "    numbers = [n for n in get_numbers(name,\"int\") if n in [750,1,2,3,4,5,6,8,12]]        #提取标题中特定数字\n",
    "    if len(numbers) == numbers.count(750):         #只有750数字,认为是单瓶不处理\n",
    "        continue\n",
    "    if numbers.count(750) > 1:        #存在多个数字且750个数有多个，删除\n",
    "            df = df.drop(index = i,axis = 0)\n",
    "            continue\n",
    "    if numbers.index(750) == 0:        #存在多个数字，750只有一个，且750后面有数字,更改\n",
    "        df['price'].loc[i] = float('%.2f' % (df['price'].loc[i]/numbers[1]))\n",
    "    elif numbers.index(750) == -1:        #存在多个数字，750只有一个，且750前面有数字，更改\n",
    "        df['price'].loc[i] = float('%.2f' % (df['price'].loc[i]/numbers[-2]))\n",
    "    else:\n",
    "         df = df.drop(index = i,axis = 0)    #存在多个数字，750只有一个，且750前面后面都有数字，删除\n",
    "            \n",
    "df.drop([\"name\",\"包装\",\"容量\",\"产品重量（kg）\"], axis=1, inplace=True)"
   ]
  },
  {
   "cell_type": "markdown",
   "metadata": {},
   "source": [
    "************************************************\n",
    "2.1.4 [删选列]()\n",
    "************************************************"
   ]
  },
  {
   "cell_type": "code",
   "execution_count": 88,
   "metadata": {},
   "outputs": [
    {
     "name": "stdout",
     "output_type": "stream",
     "text": [
      "每列缺失值个数:\n",
      "CT数           11648\n",
      "ISBN          11648\n",
      "id                0\n",
      "keyword           0\n",
      "price             0\n",
      "shop_id           0\n",
      "shop_name         0\n",
      "sku_id            0\n",
      "url               0\n",
      "丛书名           11648\n",
      "中图法分类号        11648\n",
      "主体材质          11648\n",
      "主色调           11648\n",
      "主袋            11648\n",
      "主要材质成分        11648\n",
      "主题词           11648\n",
      "书写            11648\n",
      "产区                0\n",
      "产品产地          11648\n",
      "产品净重(kg)      11648\n",
      "产品净重（kg）      11648\n",
      "产品包装          11648\n",
      "产品包装尺寸        11648\n",
      "产品包装尺寸（cm）    11648\n",
      "产品包装重量（kg）    11648\n",
      "产品品牌          11648\n",
      "产品型号          11648\n",
      "产品尺寸(mm)      11648\n",
      "产品尺寸（cm）      11648\n",
      "产品尺寸（mm）      11648\n",
      "              ...  \n",
      "适用人群          11648\n",
      "适用场景          11648\n",
      "适用型号          11648\n",
      "适用季节          11648\n",
      "适用对象          11648\n",
      "适用尺寸          11648\n",
      "适用炉灶          11648\n",
      "适用空间          11648\n",
      "造型            11648\n",
      "配料            11648\n",
      "配音语言          11648\n",
      "酒精度               0\n",
      "重量（g）         11648\n",
      "重量（kg）        11648\n",
      "钥匙孔           11648\n",
      "链子材质          11648\n",
      "链子样式          11648\n",
      "镜面材质          11648\n",
      "长度(m)         11648\n",
      "阀芯            11648\n",
      "附件            11648\n",
      "附件数量          11648\n",
      "面料            11648\n",
      "音频格式          11648\n",
      "页数            11648\n",
      "题材            11648\n",
      "颜色                0\n",
      "风格            11648\n",
      "香味            11648\n",
      "香型            11648\n",
      "Length: 262, dtype: int64\n"
     ]
    }
   ],
   "source": [
    "print(\"每列缺失值个数:\")\n",
    "print(df.isnull().sum())#统计每列的缺失值个数"
   ]
  },
  {
   "cell_type": "code",
   "execution_count": 89,
   "metadata": {},
   "outputs": [],
   "source": [
    "#删除列数据，thresh作用：保留至少有2329（11648*20%）个非 NA 数的列\n",
    "df = df.dropna(axis=1,thresh=2329)\n",
    "# 再删除[\"id\",\"shop_id\",\"shop_name\",\"sku_id\",\"url\"]\n",
    "df.drop([\"id\",\"shop_id\",\"shop_name\",\"sku_id\",\"url\"],axis=1,inplace=True)"
   ]
  },
  {
   "cell_type": "markdown",
   "metadata": {},
   "source": [
    "******************************************************\n",
    "2.2 [处理空值]()\n",
    "\n",
    "主要是处理      类别    和    特性    缺失值用   众数    代替\n",
    "\n",
    "\n",
    "******************************************************"
   ]
  },
  {
   "cell_type": "code",
   "execution_count": 90,
   "metadata": {},
   "outputs": [
    {
     "data": {
      "text/plain": [
       "array(['keyword', 'price', '产区', '保质期', '原产地', '口感', '国产/进口', '存储方法',\n",
       "       '年份', '特性', '甜度', '类别', '葡萄品种', '酒精度', '颜色'], dtype=object)"
      ]
     },
     "execution_count": 90,
     "metadata": {},
     "output_type": "execute_result"
    }
   ],
   "source": [
    "df.columns.values"
   ]
  },
  {
   "cell_type": "code",
   "execution_count": 91,
   "metadata": {},
   "outputs": [
    {
     "data": {
      "text/plain": [
       "keyword      0\n",
       "price        0\n",
       "产区           0\n",
       "保质期          0\n",
       "原产地          0\n",
       "口感           0\n",
       "国产/进口        0\n",
       "存储方法         0\n",
       "年份           0\n",
       "特性         117\n",
       "甜度           0\n",
       "类别          41\n",
       "葡萄品种         0\n",
       "酒精度          0\n",
       "颜色           0\n",
       "dtype: int64"
      ]
     },
     "execution_count": 91,
     "metadata": {},
     "output_type": "execute_result"
    }
   ],
   "source": [
    "df.isnull().sum()"
   ]
  },
  {
   "cell_type": "code",
   "execution_count": 92,
   "metadata": {},
   "outputs": [
    {
     "data": {
      "text/plain": [
       "特性\n",
       "普通餐酒               6123\n",
       "精品葡萄酒              1563\n",
       "列级庄                1455\n",
       "法定产区酒（AOC/AOP等）     958\n",
       "名庄葡萄酒               586\n",
       "中级庄                 578\n",
       "酒杯/酒具               167\n",
       "有机葡萄酒                76\n",
       "AOC/AOP              25\n",
       "dtype: int64"
      ]
     },
     "execution_count": 92,
     "metadata": {},
     "output_type": "execute_result"
    }
   ],
   "source": [
    "df.groupby(\"特性\").size().sort_values(ascending=False)"
   ]
  },
  {
   "cell_type": "code",
   "execution_count": 93,
   "metadata": {},
   "outputs": [],
   "source": [
    "# 众数替代缺失值\n",
    "\n",
    "#上述统计结果可以看出“特性”和“类别”出现缺失值\n",
    "def process_nan(col,gp_col,df):\n",
    "    #计算该列分组众数,可能出现某个品牌的众数为nan，以“no match”代替\n",
    "    df_mode = df.groupby(gp_col)[col].agg(lambda x: next(iter(x.value_counts().index), 'no match'))\n",
    "    df[col] = df[col].fillna(df[gp_col].map(df_mode))\n",
    "    df = df[~df[col].isin([\"no match\"])] #删除“no match”\n",
    "    return df\n",
    "    \n",
    "df = process_nan(\"特性\", \"keyword\", df)\n",
    "df = process_nan(\"类别\", \"keyword\", df)\n",
    "\n",
    "# 保存数据\n",
    "df.to_csv(\"pre-processed.csv\",encoding=\"utf-8_sig\",index = False)"
   ]
  },
  {
   "cell_type": "markdown",
   "metadata": {},
   "source": [
    "******************************************************\n",
    "2.3 [pandaBI观察各维度特征再处理]()\n",
    "\n",
    "- 存储方法：大部分数据是形容不能避光阴凉的不同说法，选择删除\n",
    "\n",
    "- 原产地，甜度，颜色：含有部分取值为“其他”的数据，采用同一红酒品牌的众数替代策略予以调整\n",
    "\n",
    "- 类别，葡萄品种：采用onehot编码的理论思想对数据进行转换\n",
    "\n",
    "- 年份：数据中包含有很多“以实物为准”，“见瓶身”这种取值，但我们想知道的是酒的年龄，处理方式是利用文本处理的分词技术提取其中的年份，再与当前年份相减；部分数据的年份给的是一个范围值，此时取平均值；没有年份则用9999代替。\n",
    "\n",
    "- 酒精度：同“年份”属性一样，有数据不规范，“实物为准”的取值问题，同样采用文本处理的分词技术提取酒精度的数值。\n",
    "- 保质期：书写格式非常不统一，有些是按天为单位，有些是按年为单位，且有数字有中文的不同表达，该属性予以删除。\n",
    "\n",
    "******************************************************"
   ]
  },
  {
   "cell_type": "code",
   "execution_count": 94,
   "metadata": {},
   "outputs": [],
   "source": [
    "df.drop([\"保质期\",\"存储方法\"], axis=1, inplace=True)"
   ]
  },
  {
   "cell_type": "code",
   "execution_count": 95,
   "metadata": {},
   "outputs": [],
   "source": [
    "# 处理 原产地，甜度，颜色\n",
    "def process_others(col, gp_col, df_other, df_mode,df):\n",
    "    other_series = df_other[col]\n",
    "    names = list(df.loc[other_series,gp_col])\n",
    "    t = df_mode.loc[names,col]\n",
    "    t.index = df.loc[other_series,col].index #col中含有“其它”的索引\n",
    "    df.loc[other_series,col] = t\n",
    "    return df\n",
    "\n",
    "cols = [\"原产地\",\"甜度\",\"颜色\"] #需要处理的列\n",
    "gp_col = 'keyword'  #分组列\n",
    "df_mode = df.groupby('keyword').agg(lambda x: x.value_counts().index[0]) #根据keyword（品牌）分组计算众数\n",
    "# print(df_mode[cols]) #每个红酒品牌在属性列上的众数\n",
    "\n",
    "for col in cols:\n",
    "    df_other = pd.DataFrame(df[col]==\"其它\") #col中存在“其它”的行\n",
    "    df = process_others(col, gp_col, df_other, df_mode, df)\n",
    "    #因为某品牌红酒在某列上的众数可能是“其它”，经过众数替换后再删除仍存在的“其它”的行\n",
    "    df = df[~df[col].isin([\"其它\"])] #通过~取反，选取col中不包含“其它”的行"
   ]
  },
  {
   "cell_type": "code",
   "execution_count": 96,
   "metadata": {},
   "outputs": [
    {
     "data": {
      "text/plain": [
       "(10951, 13)"
      ]
     },
     "execution_count": 96,
     "metadata": {},
     "output_type": "execute_result"
    }
   ],
   "source": [
    "df.shape"
   ]
  },
  {
   "cell_type": "code",
   "execution_count": 97,
   "metadata": {},
   "outputs": [],
   "source": [
    "# 处理 类别\n",
    "# list(df.groupby(\"类别\").count().index)\n",
    "lbs = [\"冰酒/贵腐/甜酒\",\"白葡萄酒\",\"果味葡萄酒\",\"桃红葡萄酒\",\"起泡酒/香槟\",\"红葡萄酒\"]\n",
    "\n",
    "df[\"冰酒/贵腐/甜酒\"] = df['类别'].apply(lambda x : 1 if str(x).find(\"冰酒\") != -1 or str(x).find(\"贵腐\")!= -1 or str(x).find(\"甜酒\")!= -1 else 0)\n",
    "df[\"白葡萄酒\"] = df['类别'].apply(lambda x : 1 if str(x).find(\"白葡萄酒\") != -1 else 0)\n",
    "df[\"果味葡萄酒\"] = df['类别'].apply(lambda x : 1 if str(x).find(\"果味葡萄酒\") != -1 else 0)\n",
    "df[\"桃红葡萄酒\"] = df['类别'].apply(lambda x : 1 if str(x).find(\"桃红葡萄酒\") != -1 else 0)\n",
    "df[\"红葡萄酒\"] = df['类别'].apply(lambda x : 1 if str(x).find(\"红葡萄酒\") != -1 else 0)\n",
    "df[\"起泡酒/香槟\"] = df['类别'].apply(lambda x : 1 if str(x).find(\"起泡酒\") != -1 or str(x).find(\"香槟\") != -1 else 0)\n",
    "\n",
    "# df[['类别']+lbs].head\n",
    "df.drop(\"类别\", axis=1, inplace=True)"
   ]
  },
  {
   "cell_type": "code",
   "execution_count": 98,
   "metadata": {},
   "outputs": [
    {
     "name": "stdout",
     "output_type": "stream",
     "text": [
      "['马尔贝克（Malbec）', '其它', '梅洛（Merlot）', '仙粉黛（Zinfandel）', '赤霞珠（Cabernet Sauvignon）', '西拉/设拉子（Syrah/Shiraz）', '雷司令（Riesling）', '桑娇维塞（Sangiovese）', '黑皮诺（Pinot Noir）', '长相思（Sauvignon Blanc）', '内比奥罗（Nebbiolo）', '佳美（Gamay）', '品丽珠（Cabernet Franc）', '匹诺塔吉（Pinotage）', '霞多丽（Chardonnay）', '蛇龙珠（Cabernet Gernischt）', '佳美娜（Carmenere）']\n"
     ]
    }
   ],
   "source": [
    "# 处理葡萄品种\n",
    "## 获取葡萄的所有品种类别\n",
    "tmp = list(df.groupby(\"葡萄品种\").count().index)\n",
    "graps = []\n",
    "for i in tmp:\n",
    "    graps += i.split(\"|\")\n",
    "graps = list(set(graps))\n",
    "print(graps)\n",
    "del tmp\n",
    "\n",
    "## 处理每个葡萄品种\n",
    "for j in graps:\n",
    "    df[j] = df['葡萄品种'].apply(lambda x : 1 if str(x).find(j) != -1 else 0)\n",
    "    \n",
    "# print(df[graps+['葡萄品种']].head)\n",
    "df.drop(\"葡萄品种\", axis=1, inplace=True)"
   ]
  },
  {
   "cell_type": "code",
   "execution_count": 99,
   "metadata": {},
   "outputs": [],
   "source": [
    "import numpy as np\n",
    "#处理年份,\n",
    "#可能出现的数字有：年份(2005,2012等)，年份区间（2016-2018等），年月日(2015.08.06,2012.05等),年数(0,1,3等),年数区间（0-3等，1-3等）\n",
    "       \n",
    "def deal_year(x):\n",
    "    numbers = []\n",
    "    for w,p in pseg.cut(x):\n",
    "        if p=='m':\n",
    "            try:numbers.append(int(w))\n",
    "            except:continue\n",
    "    if len(numbers) == 0:\n",
    "        return 99999   #年份中无数字，以99999代替\n",
    "    years=[]\n",
    "    other_nums=[]\n",
    "    for n in numbers:\n",
    "        if n >1800 and n < 2020:\n",
    "            years.append(n)\n",
    "        elif n<50:\n",
    "            other_nums.append(n)\n",
    "        else:\n",
    "            continue\n",
    "    if years:\n",
    "        return 2019 - int(np.mean(years))\n",
    "    elif other_nums:\n",
    "        return int(np.mean(other_nums))\n",
    "    else:\n",
    "        return 99999 #无合理数字，以99999代替\n",
    "      \n",
    "df[\"year\"] = df[\"年份\"].map(deal_year)\n",
    "df.drop(\"年份\", axis=1, inplace=True)"
   ]
  },
  {
   "cell_type": "code",
   "execution_count": 100,
   "metadata": {},
   "outputs": [],
   "source": [
    "# 处理酒精度\n",
    "def deal_alcohol(x):\n",
    "    numbers = []\n",
    "    for w,p in pseg.cut(x):\n",
    "        if p=='m':\n",
    "            try:numbers.append(float(w))\n",
    "            except:continue\n",
    "    if len(numbers) > 1:\n",
    "        return np.mean(numbers)\n",
    "    elif len(numbers) == 1:\n",
    "        return numbers[0]\n",
    "    else:\n",
    "        return 99999  # 酒精中无数字，以99999代替\n",
    "        \n",
    "df[\"alcohol\"] = df[\"酒精度\"].map(deal_alcohol)\n",
    "df.drop(\"酒精度\", axis=1, inplace=True)"
   ]
  },
  {
   "cell_type": "code",
   "execution_count": 101,
   "metadata": {},
   "outputs": [],
   "source": [
    "df.to_csv(\"prepare_for_weibo.csv\",encoding=\"utf-8_sig\",index = False)"
   ]
  },
  {
   "cell_type": "code",
   "execution_count": 103,
   "metadata": {},
   "outputs": [
    {
     "name": "stdout",
     "output_type": "stream",
     "text": [
      "3.32\n",
      "79560.0\n"
     ]
    }
   ],
   "source": [
    "print(df[\"price\"].min())\n",
    "print(df[\"price\"].max())"
   ]
  },
  {
   "cell_type": "code",
   "execution_count": 115,
   "metadata": {},
   "outputs": [
    {
     "data": {
      "text/plain": [
       "<matplotlib.axes._subplots.AxesSubplot at 0x7f18af7e0fd0>"
      ]
     },
     "execution_count": 115,
     "metadata": {},
     "output_type": "execute_result"
    },
    {
     "name": "stderr",
     "output_type": "stream",
     "text": [
      "/usr/local/python3/lib/python3.6/site-packages/matplotlib/font_manager.py:1328: UserWarning: findfont: Font family ['sans-serif'] not found. Falling back to DejaVu Sans\n",
      "  (prop.get_family(), self.defaultFamily[fontext]))\n"
     ]
    },
    {
     "data": {
      "image/png": "[encoded data removed]",
      "text/plain": [
       "<Figure size 1440x360 with 3 Axes>"
      ]
     },
     "metadata": {
      "needs_background": "light"
     },
     "output_type": "display_data"
    }
   ],
   "source": [
    "# 三种方式对价格的划分\n",
    "from sklearn.cluster import KMeans\n",
    "import matplotlib.pyplot as plt\n",
    "%matplotlib inline\n",
    "plt.rcParams['font.family'] = ['sans-serif']\n",
    "plt.rcParams['font.sans-serif'] = ['SimHei']\n",
    "\n",
    "k = 8\n",
    "kmodel = KMeans(n_clusters = k,n_jobs=5)\n",
    "\n",
    "fig,ax= plt.subplots(1,3,figsize=(20,5))\n",
    "cat = pd.cut(df['price'],k)\n",
    "cat2 = pd.qcut(df['price'],k)\n",
    "kmodel.fit(df['price'].values.reshape(len(df),1))\n",
    "c = pd.DataFrame(kmodel.cluster_centers_).sort_values(0)\n",
    "w = c.rolling(2).mean().iloc[1:]\n",
    "w = [0] + list(w[0]) + [df['price'].max()] \n",
    "cat3 = pd.cut(df['price'], w)\n",
    "\n",
    "cat.value_counts(sort = False).plot.bar(grid= True,ax=ax[0],title = '等宽分箱')\n",
    "cat2.value_counts(sort = False).plot.bar(grid= True,ax=ax[1],title = '等频分箱')\n",
    "cat3.value_counts(sort = False).plot.bar(grid= True,ax=ax[2],title = 'KMeans聚类分箱')"
   ]
  },
  {
   "cell_type": "code",
   "execution_count": 116,
   "metadata": {},
   "outputs": [
    {
     "data": {
      "text/plain": [
       "<matplotlib.axes._subplots.AxesSubplot at 0x7f18af717cc0>"
      ]
     },
     "execution_count": 116,
     "metadata": {},
     "output_type": "execute_result"
    },
    {
     "name": "stderr",
     "output_type": "stream",
     "text": [
      "/usr/local/python3/lib/python3.6/site-packages/matplotlib/font_manager.py:1328: UserWarning: findfont: Font family ['sans-serif'] not found. Falling back to DejaVu Sans\n",
      "  (prop.get_family(), self.defaultFamily[fontext]))\n"
     ]
    },
    {
     "data": {
      "image/png": "[encoded data removed]",
      "text/plain": [
       "<Figure size 1440x360 with 1 Axes>"
      ]
     },
     "metadata": {
      "needs_background": "light"
     },
     "output_type": "display_data"
    }
   ],
   "source": [
    "df3 = df[df[\"price\"]>500]\n",
    "fig,ax= plt.subplots(1,1,figsize=(20,5))\n",
    "cat4 = pd.qcut(df3['price'],3)\n",
    "cat4.value_counts(sort = False).plot.bar(grid= True,title = '等频分箱')"
   ]
  },
  {
   "cell_type": "code",
   "execution_count": 117,
   "metadata": {},
   "outputs": [
    {
     "data": {
      "text/plain": [
       "<matplotlib.axes._subplots.AxesSubplot at 0x7f18af6dea90>"
      ]
     },
     "execution_count": 117,
     "metadata": {},
     "output_type": "execute_result"
    },
    {
     "name": "stderr",
     "output_type": "stream",
     "text": [
      "/usr/local/python3/lib/python3.6/site-packages/matplotlib/font_manager.py:1328: UserWarning: findfont: Font family ['sans-serif'] not found. Falling back to DejaVu Sans\n",
      "  (prop.get_family(), self.defaultFamily[fontext]))\n"
     ]
    },
    {
     "data": {
      "image/png": "[encoded data removed]",
      "text/plain": [
       "<Figure size 1440x360 with 1 Axes>"
      ]
     },
     "metadata": {
      "needs_background": "light"
     },
     "output_type": "display_data"
    }
   ],
   "source": [
    "df4 = df[df[\"price\"]<=500]\n",
    "fig,ax= plt.subplots(1,1,figsize=(20,5))\n",
    "cat4 = pd.qcut(df4['price'],5)\n",
    "cat4.value_counts(sort = False).plot.bar(grid= True,title = '等频分箱')"
   ]
  },
  {
   "cell_type": "code",
   "execution_count": null,
   "metadata": {},
   "outputs": [],
   "source": [
    "# 处理价格区间\n",
    "# 价格区间划分为：[0,50],[50,100],[100,150],[150,250],[250,500],[500,1000],[1000,2000],[2000,max]\n",
    "import sys \n",
    "def get_price_scope(price):        #获取价格区间\n",
    "    scope = [[0,50],[50,100],[100,150],[150,250],[250,500],[500,1000],[1000,2000],[2000,sys.maxsize]]\n",
    "    for j in range(len(scope)):\n",
    "        if price >= scope[j][0] and price < scope[j][1]:\n",
    "            result = '-'.join(str(x) for x in scope[j])\n",
    "    return result\n",
    "df['price'] = df['price'].map(get_price_scope)"
   ]
  },
  {
   "cell_type": "code",
   "execution_count": null,
   "metadata": {},
   "outputs": [],
   "source": [
    "df.to_csv(\"wine_processed.csv\",encoding=\"utf-8_sig\",index = False)"
   ]
  },
  {
   "cell_type": "code",
   "execution_count": null,
   "metadata": {},
   "outputs": [],
   "source": [
    "df2.groupby(\"keyword\").agg({\"price\":[\"min\",\"max\"]})"
   ]
  },
  {
   "cell_type": "code",
   "execution_count": null,
   "metadata": {},
   "outputs": [],
   "source": []
  }
 ],
 "metadata": {
  "kernelspec": {
   "display_name": "Python 3",
   "language": "python",
   "name": "python3"
  },
  "language_info": {
   "codemirror_mode": {
    "name": "ipython",
    "version": 3
   },
   "file_extension": ".py",
   "mimetype": "text/x-python",
   "name": "python",
   "nbconvert_exporter": "python",
   "pygments_lexer": "ipython3",
   "version": "3.6.4"
  }
 },
 "nbformat": 4,
 "nbformat_minor": 2
}
