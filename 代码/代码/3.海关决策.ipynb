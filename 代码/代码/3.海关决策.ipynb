{
 "cells": [
  {
   "cell_type": "code",
   "execution_count": 73,
   "metadata": {},
   "outputs": [],
   "source": [
    "import pandas as pd\n",
    "df = pd.read_csv(\"wine_processed.csv\")"
   ]
  },
  {
   "cell_type": "code",
   "execution_count": 74,
   "metadata": {},
   "outputs": [
    {
     "data": {
      "text/html": [
       "<div>\n",
       "<style scoped>\n",
       "    .dataframe tbody tr th:only-of-type {\n",
       "        vertical-align: middle;\n",
       "    }\n",
       "\n",
       "    .dataframe tbody tr th {\n",
       "        vertical-align: top;\n",
       "    }\n",
       "\n",
       "    .dataframe thead th {\n",
       "        text-align: right;\n",
       "    }\n",
       "</style>\n",
       "<table border=\"1\" class=\"dataframe\">\n",
       "  <thead>\n",
       "    <tr style=\"text-align: right;\">\n",
       "      <th></th>\n",
       "      <th>keyword</th>\n",
       "      <th>price</th>\n",
       "      <th>产区</th>\n",
       "      <th>原产地</th>\n",
       "      <th>口感</th>\n",
       "      <th>国产/进口</th>\n",
       "      <th>特性</th>\n",
       "      <th>甜度</th>\n",
       "      <th>颜色</th>\n",
       "      <th>冰酒/贵腐/甜酒</th>\n",
       "      <th>...</th>\n",
       "      <th>长相思（Sauvignon Blanc）</th>\n",
       "      <th>内比奥罗（Nebbiolo）</th>\n",
       "      <th>佳美（Gamay）</th>\n",
       "      <th>品丽珠（Cabernet Franc）</th>\n",
       "      <th>匹诺塔吉（Pinotage）</th>\n",
       "      <th>霞多丽（Chardonnay）</th>\n",
       "      <th>蛇龙珠（Cabernet Gernischt）</th>\n",
       "      <th>佳美娜（Carmenere）</th>\n",
       "      <th>year</th>\n",
       "      <th>alcohol</th>\n",
       "    </tr>\n",
       "  </thead>\n",
       "  <tbody>\n",
       "    <tr>\n",
       "      <th>0</th>\n",
       "      <td>通化/tonghua</td>\n",
       "      <td>0-50</td>\n",
       "      <td>其它</td>\n",
       "      <td>法国</td>\n",
       "      <td>饱满</td>\n",
       "      <td>进口</td>\n",
       "      <td>普通餐酒</td>\n",
       "      <td>半干型</td>\n",
       "      <td>宝石红</td>\n",
       "      <td>0</td>\n",
       "      <td>...</td>\n",
       "      <td>0</td>\n",
       "      <td>0</td>\n",
       "      <td>0</td>\n",
       "      <td>0</td>\n",
       "      <td>0</td>\n",
       "      <td>0</td>\n",
       "      <td>0</td>\n",
       "      <td>0</td>\n",
       "      <td>99999</td>\n",
       "      <td>12.0</td>\n",
       "    </tr>\n",
       "    <tr>\n",
       "      <th>1</th>\n",
       "      <td>长城/greatwall</td>\n",
       "      <td>0-50</td>\n",
       "      <td>其它</td>\n",
       "      <td>中国</td>\n",
       "      <td>柔和</td>\n",
       "      <td>国产</td>\n",
       "      <td>普通餐酒</td>\n",
       "      <td>干型</td>\n",
       "      <td>宝石红</td>\n",
       "      <td>0</td>\n",
       "      <td>...</td>\n",
       "      <td>0</td>\n",
       "      <td>0</td>\n",
       "      <td>0</td>\n",
       "      <td>0</td>\n",
       "      <td>0</td>\n",
       "      <td>0</td>\n",
       "      <td>0</td>\n",
       "      <td>0</td>\n",
       "      <td>99999</td>\n",
       "      <td>12.0</td>\n",
       "    </tr>\n",
       "  </tbody>\n",
       "</table>\n",
       "<p>2 rows × 34 columns</p>\n",
       "</div>"
      ],
      "text/plain": [
       "         keyword price  产区 原产地  口感 国产/进口    特性   甜度   颜色  冰酒/贵腐/甜酒   ...     \\\n",
       "0     通化/tonghua  0-50  其它  法国  饱满    进口  普通餐酒  半干型  宝石红         0   ...      \n",
       "1  长城/greatwall   0-50  其它  中国  柔和    国产  普通餐酒   干型  宝石红         0   ...      \n",
       "\n",
       "   长相思（Sauvignon Blanc）  内比奥罗（Nebbiolo）  佳美（Gamay）  品丽珠（Cabernet Franc）  \\\n",
       "0                     0               0          0                    0   \n",
       "1                     0               0          0                    0   \n",
       "\n",
       "   匹诺塔吉（Pinotage）  霞多丽（Chardonnay）  蛇龙珠（Cabernet Gernischt）  佳美娜（Carmenere）  \\\n",
       "0               0                0                        0               0   \n",
       "1               0                0                        0               0   \n",
       "\n",
       "    year  alcohol  \n",
       "0  99999     12.0  \n",
       "1  99999     12.0  \n",
       "\n",
       "[2 rows x 34 columns]"
      ]
     },
     "execution_count": 74,
     "metadata": {},
     "output_type": "execute_result"
    }
   ],
   "source": [
    "df.head(2)"
   ]
  },
  {
   "cell_type": "code",
   "execution_count": 75,
   "metadata": {},
   "outputs": [
    {
     "data": {
      "text/plain": [
       "price\n",
       "0-50                        1842\n",
       "100-150                     1425\n",
       "1000-2000                    226\n",
       "150-250                     1699\n",
       "2000-9223372036854775807     414\n",
       "250-500                     1590\n",
       "50-100                      3029\n",
       "500-1000                     726\n",
       "dtype: int64"
      ]
     },
     "execution_count": 75,
     "metadata": {},
     "output_type": "execute_result"
    }
   ],
   "source": [
    "df.groupby(\"price\").size()"
   ]
  },
  {
   "cell_type": "code",
   "execution_count": 76,
   "metadata": {},
   "outputs": [
    {
     "name": "stdout",
     "output_type": "stream",
     "text": [
      "price\n",
      "0-50                        1842\n",
      "100-150                     1425\n",
      "1000-2000                   1582\n",
      "150-250                     1699\n",
      "2000-9223372036854775807    1656\n",
      "250-500                     1590\n",
      "50-100                      1515\n",
      "500-1000                    1452\n",
      "dtype: int64\n"
     ]
    }
   ],
   "source": [
    "# 平衡数据\n",
    "tmp1 = df[df.price=='1000-2000']\n",
    "tmp2 = df[df.price=='2000-9223372036854775807']\n",
    "tmp3 = df[df.price=='500-1000']\n",
    "for i in range(6):\n",
    "    df = df.append(tmp1, ignore_index=True)\n",
    "for j in range(3):\n",
    "    df = df.append(tmp2,ignore_index=True)\n",
    "df = df.append(tmp3,ignore_index=True)\n",
    "\n",
    "## 剔除50-100的一半数据\n",
    "tmp4 = df[df.price=='50-100']\n",
    "df = df[df.price!='50-100']\n",
    "df = df.append(tmp4[::2],ignore_index=True)\n",
    "\n",
    "print(df.groupby(\"price\").size())"
   ]
  },
  {
   "cell_type": "code",
   "execution_count": 77,
   "metadata": {},
   "outputs": [
    {
     "name": "stdout",
     "output_type": "stream",
     "text": [
      "(12761, 33)\n",
      "(12761,)\n"
     ]
    }
   ],
   "source": [
    "# 划分X,Y\n",
    "X = df[df.columns.difference(['price'])]      \n",
    "Y = df['price']\n",
    "print(X.shape)\n",
    "print(Y.shape)"
   ]
  },
  {
   "cell_type": "code",
   "execution_count": 78,
   "metadata": {},
   "outputs": [
    {
     "name": "stderr",
     "output_type": "stream",
     "text": [
      "/usr/local/python3/lib/python3.6/site-packages/ipykernel_launcher.py:10: SettingWithCopyWarning: \n",
      "A value is trying to be set on a copy of a slice from a DataFrame.\n",
      "Try using .loc[row_indexer,col_indexer] = value instead\n",
      "\n",
      "See the caveats in the documentation: http://pandas.pydata.org/pandas-docs/stable/indexing.html#indexing-view-versus-copy\n",
      "  # Remove the CWD from sys.path while we load stuff.\n"
     ]
    }
   ],
   "source": [
    "# 对非字符型特征进行数值编码\n",
    "# X = pd.get_dummies(X)        #onehot编码\n",
    "from sklearn.preprocessing import LabelEncoder\n",
    "le = LabelEncoder()\n",
    "features = [col for col in X.columns.values if X[col].dtype == \"object\"]         #筛选出object类型的特征\n",
    "encoders = dict()\n",
    "for f in features:\n",
    "    cc = le.fit(X[f])\n",
    "    encoders[f] = cc.classes_\n",
    "    X[f] = cc.transform(X[f])\n",
    "#     X[f] = le.fit_transform(X[f])\n",
    "\n",
    "# 保存字符转换的规则\n",
    "import pickle\n",
    "with open(\"encoders.dict\", \"wb\") as f:\n",
    "    pickle.dump(encoders, f)"
   ]
  },
  {
   "cell_type": "code",
   "execution_count": 79,
   "metadata": {},
   "outputs": [
    {
     "data": {
      "text/plain": [
       "alcohol                    float64\n",
       "keyword                      int64\n",
       "year                         int64\n",
       "产区                           int64\n",
       "仙粉黛（Zinfandel）               int64\n",
       "佳美娜（Carmenere）               int64\n",
       "佳美（Gamay）                    int64\n",
       "其它                           int64\n",
       "内比奥罗（Nebbiolo）               int64\n",
       "冰酒/贵腐/甜酒                     int64\n",
       "匹诺塔吉（Pinotage）               int64\n",
       "原产地                          int64\n",
       "口感                           int64\n",
       "品丽珠（Cabernet Franc）          int64\n",
       "国产/进口                        int64\n",
       "果味葡萄酒                        int64\n",
       "桃红葡萄酒                        int64\n",
       "桑娇维塞（Sangiovese）             int64\n",
       "梅洛（Merlot）                   int64\n",
       "特性                           int64\n",
       "甜度                           int64\n",
       "白葡萄酒                         int64\n",
       "红葡萄酒                         int64\n",
       "蛇龙珠（Cabernet Gernischt）      int64\n",
       "西拉/设拉子（Syrah/Shiraz）         int64\n",
       "赤霞珠（Cabernet Sauvignon）      int64\n",
       "起泡酒/香槟                       int64\n",
       "长相思（Sauvignon Blanc）         int64\n",
       "雷司令（Riesling）                int64\n",
       "霞多丽（Chardonnay）              int64\n",
       "颜色                           int64\n",
       "马尔贝克（Malbec）                 int64\n",
       "黑皮诺（Pinot Noir）              int64\n",
       "dtype: object"
      ]
     },
     "execution_count": 79,
     "metadata": {},
     "output_type": "execute_result"
    }
   ],
   "source": [
    "X.dtypes"
   ]
  },
  {
   "cell_type": "code",
   "execution_count": 80,
   "metadata": {},
   "outputs": [
    {
     "name": "stdout",
     "output_type": "stream",
     "text": [
      "accuarcy: 68.31%\n",
      "                  precision    recall  f1-score   support\n",
      "\n",
      "            0-50       0.77      0.67      0.72       439\n",
      "          50-100       0.51      0.53      0.52       266\n",
      "         100-150       0.98      0.90      0.94       369\n",
      "         150-250       0.55      0.59      0.57       324\n",
      "         250-500       0.96      0.94      0.95       313\n",
      "        500-1000       0.51      0.56      0.53       285\n",
      "       1000-2000       0.37      0.41      0.39       249\n",
      "2000-sys.maxsize       0.76      0.73      0.75       308\n",
      "\n",
      "       micro avg       0.68      0.68      0.68      2553\n",
      "       macro avg       0.67      0.67      0.67      2553\n",
      "    weighted avg       0.70      0.68      0.69      2553\n",
      "\n"
     ]
    }
   ],
   "source": [
    "from sklearn.model_selection import train_test_split  \n",
    "\n",
    "# 划分数据训练集，测试集\n",
    "# 80%训练集，20%的测试集；为了复现实验，设置一个随机数,划分结果是确定的\n",
    "x_train, x_test, y_train, y_test = train_test_split(X, Y, test_size = 0.2, random_state = 42 )  \n",
    "\n",
    "# 模型相关（载入模型--训练模型--模型预测）\n",
    "from xgboost import XGBClassifier\n",
    "model = XGBClassifier(learning_rate=0.25, n_estimators=100, objective= \"multi:softmax\", num_class=8, max_depth=12, subsample =0.95)\n",
    "model.fit(x_train,y_train)            # 训练模型（训练集）\n",
    "y_pred = model.predict(x_test)        # 模型预测（测试集），y_pred为预测结果\n",
    "\n",
    "# 性能评估\n",
    "from sklearn.metrics import accuracy_score   # 准确率\n",
    "accuracy = accuracy_score(y_test,y_pred)\n",
    "print(\"accuarcy: %.2f%%\" % (accuracy*100.0))\n",
    "\n",
    "from sklearn.metrics import  classification_report\n",
    "#输出详细的分类性能\n",
    "print(classification_report(y_pred,y_test,target_names=['0-50','50-100','100-150','150-250','250-500','500-1000','1000-2000','2000-sys.maxsize']))"
   ]
  },
  {
   "cell_type": "code",
   "execution_count": 81,
   "metadata": {},
   "outputs": [
    {
     "data": {
      "text/plain": [
       "price\n",
       "0-50                        383\n",
       "100-150                     281\n",
       "1000-2000                   341\n",
       "150-250                     352\n",
       "2000-9223372036854775807    308\n",
       "250-500                     312\n",
       "50-100                      280\n",
       "500-1000                    296\n",
       "dtype: int64"
      ]
     },
     "execution_count": 81,
     "metadata": {},
     "output_type": "execute_result"
    }
   ],
   "source": [
    "label = pd.DataFrame(y_test,columns=[\"price\"])\n",
    "label.groupby(\"price\").size()"
   ]
  },
  {
   "cell_type": "code",
   "execution_count": 82,
   "metadata": {},
   "outputs": [
    {
     "data": {
      "text/plain": [
       "prediction\n",
       "0-50                        439\n",
       "100-150                     266\n",
       "1000-2000                   369\n",
       "150-250                     324\n",
       "2000-9223372036854775807    313\n",
       "250-500                     285\n",
       "50-100                      249\n",
       "500-1000                    308\n",
       "dtype: int64"
      ]
     },
     "execution_count": 82,
     "metadata": {},
     "output_type": "execute_result"
    }
   ],
   "source": [
    "prediction = pd.DataFrame(y_pred,columns=[\"prediction\"])\n",
    "prediction.groupby(\"prediction\").size()"
   ]
  },
  {
   "cell_type": "code",
   "execution_count": 83,
   "metadata": {},
   "outputs": [
    {
     "data": {
      "image/png": "[encoded data removed]",
      "text/plain": [
       "<Figure size 1440x2160 with 1 Axes>"
      ]
     },
     "metadata": {
      "needs_background": "light"
     },
     "output_type": "display_data"
    }
   ],
   "source": [
    "### 特征重要性\n",
    "from pylab import mpl \n",
    "# mpl.rcParams['font.sans-serif'] = ['FangSong'] \n",
    "\n",
    "import matplotlib.pyplot as plt\n",
    "%matplotlib inline\n",
    "from xgboost import plot_importance\n",
    "fig,ax = plt.subplots(figsize=(20,30))\n",
    "plot_importance(model,height=0.5,max_num_features=64,ax=ax)\n",
    "plt.show()"
   ]
  },
  {
   "cell_type": "code",
   "execution_count": 84,
   "metadata": {},
   "outputs": [
    {
     "name": "stdout",
     "output_type": "stream",
     "text": [
      "                     feature  importance\n",
      "2                   keyword       25477\n",
      "1                   alcohol       16205\n",
      "10                     year       12589\n",
      "3                        特性        9406\n",
      "5                        口感        9345\n",
      "8                        颜色        7279\n",
      "7                        产区        7117\n",
      "13                      原产地        6927\n",
      "4   赤霞珠（Cabernet Sauvignon）        4773\n",
      "9                        其它        4543\n",
      "0                     国产/进口        3752\n",
      "14               梅洛（Merlot）        3414\n",
      "18     西拉/设拉子（Syrah/Shiraz）        2616\n",
      "12                       甜度        2272\n",
      "21      品丽珠（Cabernet Franc）        1233\n",
      "17                     白葡萄酒        1051\n",
      "15                    桃红葡萄酒         627\n",
      "19          黑皮诺（Pinot Noir）         583\n",
      "11                     红葡萄酒         582\n",
      "16          霞多丽（Chardonnay）         580\n",
      "20           佳美娜（Carmenere）         568\n",
      "6   蛇龙珠（Cabernet Gernischt）         496\n",
      "24             马尔贝克（Malbec）         342\n",
      "26     长相思（Sauvignon Blanc）         341\n",
      "27                   起泡酒/香槟         295\n",
      "29                    果味葡萄酒         219\n",
      "25                 冰酒/贵腐/甜酒         217\n",
      "28         桑娇维塞（Sangiovese）         123\n",
      "31           匹诺塔吉（Pinotage）         101\n",
      "23           仙粉黛（Zinfandel）          98\n",
      "22                佳美（Gamay）          48\n",
      "30            雷司令（Riesling）          33\n",
      "32           内比奥罗（Nebbiolo）           2\n"
     ]
    }
   ],
   "source": [
    "feature_importance=pd.DataFrame(list(model.get_booster().get_fscore().items()),\n",
    "columns=['feature','importance']).sort_values('importance', ascending=False)\n",
    "print('',feature_importance)"
   ]
  },
  {
   "cell_type": "code",
   "execution_count": 85,
   "metadata": {},
   "outputs": [
    {
     "name": "stdout",
     "output_type": "stream",
     "text": [
      "(12761, 22)\n",
      "(12761,)\n"
     ]
    },
    {
     "name": "stderr",
     "output_type": "stream",
     "text": [
      "/usr/local/python3/lib/python3.6/site-packages/ipykernel_launcher.py:14: SettingWithCopyWarning: \n",
      "A value is trying to be set on a copy of a slice from a DataFrame.\n",
      "Try using .loc[row_indexer,col_indexer] = value instead\n",
      "\n",
      "See the caveats in the documentation: http://pandas.pydata.org/pandas-docs/stable/indexing.html#indexing-view-versus-copy\n",
      "  \n"
     ]
    },
    {
     "name": "stdout",
     "output_type": "stream",
     "text": [
      "accuarcy: 68.59%\n"
     ]
    }
   ],
   "source": [
    "# 掌握特征重要性之后重新再训练\n",
    "choose = list(feature_importance[feature_importance.importance>400][\"feature\"])\n",
    "# 划分X,Y\n",
    "# X = df[df.columns.difference(['price'])]  \n",
    "X = df[choose]\n",
    "Y = df['price']\n",
    "print(X.shape)\n",
    "print(Y.shape)\n",
    "\n",
    "from sklearn.preprocessing import LabelEncoder\n",
    "le = LabelEncoder()\n",
    "features = [col for col in X.columns.values if X[col].dtype == \"object\"]         #筛选出object类型的特征\n",
    "for f in features:\n",
    "    X[f] = le.fit_transform(X[f])\n",
    "    \n",
    "    \n",
    "from sklearn.model_selection import train_test_split  \n",
    "\n",
    "# 划分数据训练集，测试集\n",
    "# 80%训练集，20%的测试集；为了复现实验，设置一个随机数,划分结果是确定的\n",
    "x_train, x_test, y_train, y_test = train_test_split(X, Y, test_size = 0.2, random_state = 42 )  \n",
    "\n",
    "# 模型相关（载入模型--训练模型--模型预测）\n",
    "from xgboost import XGBClassifier\n",
    "model = XGBClassifier(learning_rate=0.25, n_estimators=100, objective= \"multi:softmax\", num_class=8, max_depth=12, subsample =0.95)\n",
    "model.fit(x_train,y_train)            # 训练模型（训练集）\n",
    "y_pred = model.predict(x_test)        # 模型预测（测试集），y_pred为预测结果\n",
    "\n",
    "# 性能评估\n",
    "from sklearn.metrics import accuracy_score   # 准确率\n",
    "accuracy = accuracy_score(y_test,y_pred)\n",
    "print(\"accuarcy: %.2f%%\" % (accuracy*100.0))"
   ]
  },
  {
   "cell_type": "code",
   "execution_count": 103,
   "metadata": {},
   "outputs": [],
   "source": [
    "pickle.dump(model, open(\"pima.pickle.dat\", \"wb\"))"
   ]
  },
  {
   "cell_type": "code",
   "execution_count": 108,
   "metadata": {},
   "outputs": [
    {
     "name": "stdout",
     "output_type": "stream",
     "text": [
      "the true result:  0-50\n"
     ]
    },
    {
     "name": "stderr",
     "output_type": "stream",
     "text": [
      "/usr/local/python3/lib/python3.6/site-packages/ipykernel_launcher.py:20: SettingWithCopyWarning: \n",
      "A value is trying to be set on a copy of a slice from a DataFrame.\n",
      "Try using .loc[row_indexer,col_indexer] = value instead\n",
      "\n",
      "See the caveats in the documentation: http://pandas.pydata.org/pandas-docs/stable/indexing.html#indexing-view-versus-copy\n"
     ]
    },
    {
     "name": "stdout",
     "output_type": "stream",
     "text": [
      "   alcohol  keyword   year  产区  仙粉黛（Zinfandel）  佳美娜（Carmenere）  佳美（Gamay）  其它  \\\n",
      "0     12.0      189  99999   2               0               0          0   1   \n",
      "\n",
      "   内比奥罗（Nebbiolo）  冰酒/贵腐/甜酒       ...         蛇龙珠（Cabernet Gernischt）  \\\n",
      "0               0         0       ...                               0   \n",
      "\n",
      "   西拉/设拉子（Syrah/Shiraz）  赤霞珠（Cabernet Sauvignon）  起泡酒/香槟  \\\n",
      "0                     0                        0       0   \n",
      "\n",
      "   长相思（Sauvignon Blanc）  雷司令（Riesling）  霞多丽（Chardonnay）  颜色  马尔贝克（Malbec）  \\\n",
      "0                     0              0                0   0             0   \n",
      "\n",
      "   黑皮诺（Pinot Noir）  \n",
      "0                0  \n",
      "\n",
      "[1 rows x 33 columns]\n",
      "the prediction of test:  ['0-50']\n"
     ]
    }
   ],
   "source": [
    "# 加载模型\n",
    "import xgboost as xgb\n",
    "# bst = xgb.Booster({'nthread':4}) #init model\n",
    "# bst.load_model(\"xgb1.model\") # load data\n",
    "bst = pickle.load(open(\"pima.pickle.dat\", \"rb\"))\n",
    "\n",
    "# 载入测试数据\n",
    "test_data = df.iloc[[0]]\n",
    "test = test_data[test_data.columns.difference(['price'])]     \n",
    "Y = test_data['price']\n",
    "print(\"the true result: \",Y[0])\n",
    "\n",
    "# 转换数据\n",
    "coders = {}\n",
    "with open(\"encoders.dict\", \"rb\") as f:\n",
    "    coders = pickle.load(f)\n",
    "aa = LabelEncoder()\n",
    "for x,y in coders.items():\n",
    "    aa.classes_ = y\n",
    "    test[x] = aa.transform(test[x])\n",
    "print(test)\n",
    "\n",
    "# 预测\n",
    "p = bst.predict(test[choose])\n",
    "print(\"the prediction of test: \",p)"
   ]
  },
  {
   "cell_type": "code",
   "execution_count": null,
   "metadata": {},
   "outputs": [],
   "source": []
  }
 ],
 "metadata": {
  "kernelspec": {
   "display_name": "Python 3",
   "language": "python",
   "name": "python3"
  },
  "language_info": {
   "codemirror_mode": {
    "name": "ipython",
    "version": 3
   },
   "file_extension": ".py",
   "mimetype": "text/x-python",
   "name": "python",
   "nbconvert_exporter": "python",
   "pygments_lexer": "ipython3",
   "version": "3.6.4"
  }
 },
 "nbformat": 4,
 "nbformat_minor": 2
}
